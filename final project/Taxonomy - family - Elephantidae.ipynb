{
 "cells": [
  {
   "cell_type": "code",
   "execution_count": 27,
   "metadata": {},
   "outputs": [],
   "source": [
    "import requests\n",
    "import pandas as pd\n",
    "data =  pd.read_csv(\"iucn/msw3-all.csv\", encoding='ISO-8859-1')\n",
    "# print(data.head())"
   ]
  },
  {
   "cell_type": "code",
   "execution_count": 17,
   "metadata": {},
   "outputs": [
    {
     "name": "stdout",
     "output_type": "stream",
     "text": [
      "1230 ['Tachyglossus' 'Zaglossus' 'Ornithorhynchus' ..., 'Mesoplodon'\n",
      " 'Tasmacetus' 'Ziphius']\n",
      "153 ['Tachyglossidae' 'Ornithorhynchidae' 'Didelphidae' 'Caenolestidae'\n",
      " 'Microbiotheriidae' 'Notoryctidae' 'Thylacinidae' 'Myrmecobiidae'\n",
      " 'Dasyuridae' 'Thylacomyidae' 'Chaeropodidae' 'Peramelidae'\n",
      " 'Phascolarctidae' 'Vombatidae' 'Burramyidae' 'Phalangeridae'\n",
      " 'Pseudocheiridae' 'Petauridae' 'Tarsipedidae' 'Acrobatidae'\n",
      " 'Hypsiprymnodontidae' 'Potoroidae' 'Macropodidae' 'Tenrecidae'\n",
      " 'Chrysochloridae' 'Macroscelididae' 'Orycteropodidae' 'Procaviidae'\n",
      " 'Elephantidae' 'Dugongidae' 'Trichechidae' 'Dasypodidae' 'Bradypodidae'\n",
      " 'Megalonychidae' 'Cyclopedidae' 'Myrmecophagidae' 'Tupaiidae'\n",
      " 'Ptilocercidae' 'Cynocephalidae' 'Cheirogaleidae' 'Lemuridae'\n",
      " 'Lepilemuridae' 'Indridae' 'Daubentoniidae' 'Lorisidae' 'Galagidae'\n",
      " 'Tarsiidae' 'Cebidae' 'Aotidae' 'Pitheciidae' 'Atelidae' 'Cercopithecidae'\n",
      " 'Hylobatidae' 'Hominidae' 'Aplodontiidae' 'Sciuridae' 'Gliridae'\n",
      " 'Castoridae' 'Heteromyidae' 'Geomyidae ' 'Dipodidae' 'Platacanthomyidae'\n",
      " 'Spalacidae' 'Calomyscidae' 'Nesomyidae' 'Cricetidae' 'Muridae'\n",
      " 'Anomaluridae' 'Pedetidae' 'Ctenodactylidae' 'Bathyergidae' 'Hystricidae'\n",
      " 'Petromuridae' 'Thryonomyidae' 'Erethizontidae' 'Chinchillidae'\n",
      " 'Dinomyidae' 'Caviidae' 'Dasyproctidae' 'Cuniculidae' 'Ctenomyidae'\n",
      " 'Octodontidae' 'Abrocomidae' 'Echimyidae' 'Myocastoridae' 'Capromyidae'\n",
      " 'Heptaxodontidae' 'Ochotonidae' 'Prolagidae' 'Leporidae' 'Erinaceidae'\n",
      " 'Nesophontidae' 'Solenodontidae' 'Soricidae' 'Talpidae' 'Pteropodidae'\n",
      " 'Rhinolophidae' 'Hipposideridae' 'Megadermatidae' 'Rhinopomatidae'\n",
      " 'Craseonycteridae' 'Emballonuridae' 'Nycteridae' 'Myzopodidae'\n",
      " 'Mystacinidae' 'Phyllostomidae' 'Mormoopidae' 'Noctilionidae'\n",
      " 'Furipteridae' 'Thyropteridae' 'Natalidae' 'Molossidae' 'Vespertilionidae'\n",
      " 'Manidae' 'Felidae' 'Viverridae' 'Eupleridae' 'Nandiniidae' 'Herpestidae'\n",
      " 'Hyaenidae' 'Canidae' 'Ursidae' 'Otariidae' 'Odobenidae' 'Phocidae'\n",
      " 'Mustelidae' 'Mephitidae' 'Procyonidae' 'Ailuridae' 'Equidae' 'Tapiridae'\n",
      " 'Rhinocerotidae' 'Suidae' 'Tayassuidae' 'Hippopotamidae' 'Camelidae'\n",
      " 'Tragulidae' 'Moschidae' 'Cervidae' 'Antilocapridae' 'Giraffidae'\n",
      " 'Bovidae' 'Balaenidae' 'Balaenopteridae' 'Eschrichtiidae' 'Neobalaenidae'\n",
      " 'Delphinidae' 'Monodontidae' 'Phocoenidae' 'Physeteridae' 'Platanistidae'\n",
      " 'Iniidae' 'Ziphiidae']\n"
     ]
    }
   ],
   "source": [
    "species = data[data.TaxonLevel == 'SPECIES']\n",
    "# print(species.head())\n",
    "genus = species.Genus.unique()\n",
    "print(len(genus), genus)\n",
    "family = species.Family.unique()\n",
    "print(len(family), family)"
   ]
  },
  {
   "cell_type": "code",
   "execution_count": 25,
   "metadata": {},
   "outputs": [
    {
     "name": "stdout",
     "output_type": "stream",
     "text": [
      "['Elephas maximus', 'Loxodonta africana', 'Loxodonta cyclotis']\n"
     ]
    }
   ],
   "source": [
    "elephantidae = species[species.Family == 'Elephantidae']\n",
    "# print(elephantidae)\n",
    "scientific_name = []\n",
    "for lab, row in elephantidae.iterrows():\n",
    "    name = row.Genus + ' ' + row.Species\n",
    "    scientific_name.append(name)\n",
    "print(scientific_name)"
   ]
  },
  {
   "cell_type": "code",
   "execution_count": 37,
   "metadata": {},
   "outputs": [
    {
     "name": "stdout",
     "output_type": "stream",
     "text": [
      "{'name': 'Elephas maximus', 'result': [{'code': '2.1', 'title': 'Annual & perennial non-timber crops', 'timing': 'Ongoing', 'scope': None, 'severity': None, 'score': 'Low Impact: 3', 'invasive': None}, {'code': '2.1.1', 'title': 'Shifting agriculture', 'timing': 'Ongoing', 'scope': None, 'severity': None, 'score': 'Low Impact: 3', 'invasive': None}, {'code': '2.1.2', 'title': 'Small-holder farming', 'timing': 'Ongoing', 'scope': None, 'severity': None, 'score': 'Low Impact: 3', 'invasive': None}, {'code': '2.1.3', 'title': 'Agro-industry farming', 'timing': 'Ongoing', 'scope': None, 'severity': None, 'score': 'Low Impact: 3', 'invasive': None}, {'code': '2.2', 'title': 'Wood & pulp plantations', 'timing': 'Ongoing', 'scope': None, 'severity': None, 'score': 'Low Impact: 3', 'invasive': None}, {'code': '2.2.2', 'title': 'Agro-industry plantations', 'timing': 'Ongoing', 'scope': None, 'severity': None, 'score': 'Low Impact: 3', 'invasive': None}, {'code': '2.3', 'title': 'Livestock farming & ranching', 'timing': 'Ongoing', 'scope': None, 'severity': None, 'score': 'Low Impact: 3', 'invasive': None}, {'code': '2.3.2', 'title': 'Small-holder grazing, ranching or farming', 'timing': 'Ongoing', 'scope': None, 'severity': None, 'score': 'Low Impact: 3', 'invasive': None}, {'code': '5.1', 'title': 'Hunting & trapping terrestrial animals', 'timing': 'Ongoing', 'scope': None, 'severity': None, 'score': 'Low Impact: 3', 'invasive': None}, {'code': '5.1.1', 'title': 'Intentional use (species is the target)', 'timing': 'Ongoing', 'scope': None, 'severity': None, 'score': 'Low Impact: 3', 'invasive': None}, {'code': '5.1.3', 'title': 'Persecution/control', 'timing': 'Ongoing', 'scope': None, 'severity': None, 'score': 'Low Impact: 3', 'invasive': None}, {'code': '5.3', 'title': 'Logging & wood harvesting', 'timing': 'Ongoing', 'scope': None, 'severity': None, 'score': 'Low Impact: 3', 'invasive': None}, {'code': '5.3.5', 'title': 'Motivation Unknown/Unrecorded', 'timing': 'Ongoing', 'scope': None, 'severity': None, 'score': 'Low Impact: 3', 'invasive': None}]}\n",
      "{'name': 'Loxodonta Africana', 'result': [{'code': '1.1', 'title': 'Housing & urban areas', 'timing': 'Ongoing', 'scope': None, 'severity': None, 'score': 'Low Impact: 3', 'invasive': None}, {'code': '11.2', 'title': 'Droughts', 'timing': 'Ongoing', 'scope': None, 'severity': None, 'score': 'Low Impact: 3', 'invasive': None}, {'code': '1.2', 'title': 'Commercial & industrial areas', 'timing': 'Ongoing', 'scope': None, 'severity': None, 'score': 'Low Impact: 3', 'invasive': None}, {'code': '2.1', 'title': 'Annual & perennial non-timber crops', 'timing': 'Ongoing', 'scope': None, 'severity': None, 'score': 'Low Impact: 3', 'invasive': None}, {'code': '2.1.1', 'title': 'Shifting agriculture', 'timing': 'Ongoing', 'scope': None, 'severity': None, 'score': 'Low Impact: 3', 'invasive': None}, {'code': '2.1.2', 'title': 'Small-holder farming', 'timing': 'Ongoing', 'scope': None, 'severity': None, 'score': 'Low Impact: 3', 'invasive': None}, {'code': '2.1.3', 'title': 'Agro-industry farming', 'timing': 'Ongoing', 'scope': None, 'severity': None, 'score': 'Low Impact: 3', 'invasive': None}, {'code': '2.2', 'title': 'Wood & pulp plantations', 'timing': 'Ongoing', 'scope': None, 'severity': None, 'score': 'Low Impact: 3', 'invasive': None}, {'code': '2.2.1', 'title': 'Small-holder plantations', 'timing': 'Ongoing', 'scope': None, 'severity': None, 'score': 'Low Impact: 3', 'invasive': None}, {'code': '2.2.2', 'title': 'Agro-industry plantations', 'timing': 'Ongoing', 'scope': None, 'severity': None, 'score': 'Low Impact: 3', 'invasive': None}, {'code': '2.3', 'title': 'Livestock farming & ranching', 'timing': 'Ongoing', 'scope': None, 'severity': None, 'score': 'Low Impact: 3', 'invasive': None}, {'code': '2.3.1', 'title': 'Nomadic grazing', 'timing': 'Ongoing', 'scope': None, 'severity': None, 'score': 'Low Impact: 3', 'invasive': None}, {'code': '2.3.2', 'title': 'Small-holder grazing, ranching or farming', 'timing': 'Ongoing', 'scope': None, 'severity': None, 'score': 'Low Impact: 3', 'invasive': None}, {'code': '2.3.3', 'title': 'Agro-industry grazing, ranching or farming', 'timing': 'Ongoing', 'scope': None, 'severity': None, 'score': 'Low Impact: 3', 'invasive': None}, {'code': '4.1', 'title': 'Roads & railroads', 'timing': 'Ongoing', 'scope': None, 'severity': None, 'score': 'Low Impact: 3', 'invasive': None}, {'code': '5.1', 'title': 'Hunting & trapping terrestrial animals', 'timing': 'Ongoing', 'scope': None, 'severity': None, 'score': 'Low Impact: 3', 'invasive': None}, {'code': '5.1.1', 'title': 'Intentional use (species is the target)', 'timing': 'Ongoing', 'scope': None, 'severity': None, 'score': 'Low Impact: 3', 'invasive': None}, {'code': '5.1.2', 'title': 'Unintentional effects (species is not the target)', 'timing': 'Ongoing', 'scope': None, 'severity': None, 'score': 'Low Impact: 3', 'invasive': None}, {'code': '5.1.3', 'title': 'Persecution/control', 'timing': 'Ongoing', 'scope': None, 'severity': None, 'score': 'Low Impact: 3', 'invasive': None}, {'code': '5.3', 'title': 'Logging & wood harvesting', 'timing': 'Ongoing', 'scope': None, 'severity': None, 'score': 'Low Impact: 3', 'invasive': None}, {'code': '5.3.5', 'title': 'Motivation Unknown/Unrecorded', 'timing': 'Ongoing', 'scope': None, 'severity': None, 'score': 'Low Impact: 3', 'invasive': None}, {'code': '6.1', 'title': 'Recreational activities', 'timing': 'Ongoing', 'scope': None, 'severity': None, 'score': 'Low Impact: 3', 'invasive': None}, {'code': '6.2', 'title': 'War, civil unrest & military exercises', 'timing': 'Ongoing', 'scope': None, 'severity': None, 'score': 'Low Impact: 3', 'invasive': None}, {'code': '7.1', 'title': 'Fire & fire suppression', 'timing': 'Ongoing', 'scope': None, 'severity': None, 'score': 'Low Impact: 3', 'invasive': None}, {'code': '7.1.3', 'title': 'Trend Unknown/Unrecorded', 'timing': 'Ongoing', 'scope': None, 'severity': None, 'score': 'Low Impact: 3', 'invasive': None}, {'code': '7.2', 'title': 'Dams & water management/use', 'timing': 'Ongoing', 'scope': None, 'severity': None, 'score': 'Low Impact: 3', 'invasive': None}, {'code': '7.2.11', 'title': 'Dams (size unknown)', 'timing': 'Ongoing', 'scope': None, 'severity': None, 'score': 'Low Impact: 3', 'invasive': None}, {'code': '8.1', 'title': 'Invasive non-native/alien species/diseases', 'timing': 'Ongoing', 'scope': None, 'severity': None, 'score': 'Low Impact: 3', 'invasive': None}, {'code': '8.1.1', 'title': 'Unspecified species', 'timing': 'Ongoing', 'scope': None, 'severity': None, 'score': 'Low Impact: 3', 'invasive': None}]}\n",
      "{'name': 'Loxodonta cyclotis', 'result': []}\n"
     ]
    }
   ],
   "source": [
    "for name in scientific_name:\n",
    "    r = requests.get('http://apiv3.iucnredlist.org/api/v3/threats/species/name/'+ name +'?token=9bb4facb6d23f48efbf424bb05c0c1ef1cf6f468393bc745d42179ac4aca5fee')\n",
    "    r = r.json()\n",
    "    print(r)\n",
    "    r = r['result']\n",
    "    r = pd.DataFrame(r)\n",
    "#     print(r)\n",
    "#     print(r.title.unique())\n"
   ]
  }
 ],
 "metadata": {
  "kernelspec": {
   "display_name": "Python 3",
   "language": "python",
   "name": "python3"
  },
  "language_info": {
   "codemirror_mode": {
    "name": "ipython",
    "version": 3
   },
   "file_extension": ".py",
   "mimetype": "text/x-python",
   "name": "python",
   "nbconvert_exporter": "python",
   "pygments_lexer": "ipython3",
   "version": "3.6.1"
  }
 },
 "nbformat": 4,
 "nbformat_minor": 2
}
