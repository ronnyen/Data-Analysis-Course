{
 "cells": [
  {
   "cell_type": "code",
   "execution_count": 2,
   "metadata": {},
   "outputs": [
    {
     "name": "stdout",
     "output_type": "stream",
     "text": [
      "taxonid :  12392\n",
      "scientific_name :  Loxodonta africana\n",
      "kingdom :  ANIMALIA\n",
      "phylum :  CHORDATA\n",
      "class :  MAMMALIA\n",
      "order :  PROBOSCIDEA\n",
      "family :  ELEPHANTIDAE\n",
      "genus :  Loxodonta\n",
      "main_common_name :  African Elephant\n",
      "authority :  (Blumenbach, 1797)\n",
      "published_year :  2008\n",
      "category :  VU\n",
      "criteria :  A2a\n",
      "marine_system :  False\n",
      "freshwater_system :  False\n",
      "terrestrial_system :  True\n",
      "assessor :  Blanc, J.\n",
      "reviewer :  Balfour, D., Craig, C., Dublin, H.T. & Thouless, C.\n",
      "aoo_km2 :  None\n",
      "eoo_km2 :  None\n",
      "elevation_upper :  None\n",
      "elevation_lower :  None\n",
      "depth_upper :  None\n",
      "depth_lower :  None\n",
      "errata_flag :  None\n",
      "errata_reason :  None\n",
      "amended_flag :  None\n",
      "amended_reason :  None\n"
     ]
    }
   ],
   "source": [
    "import requests\n",
    "import json\n",
    "import pandas as pd\n",
    "# Individual Species by ID - To get information about individual species:\n",
    "r = requests.get('http://apiv3.iucnredlist.org/api/v3/species/id/12392?token=9bb4facb6d23f48efbf424bb05c0c1ef1cf6f468393bc745d42179ac4aca5fee')\n",
    "r = r.json()\n",
    "r = r['result'][0]\n",
    "for k, v in r.items():\n",
    "    print(k, ': ', v)"
   ]
  },
  {
   "cell_type": "code",
   "execution_count": null,
   "metadata": {
    "collapsed": true
   },
   "outputs": [],
   "source": []
  },
  {
   "cell_type": "code",
   "execution_count": 55,
   "metadata": {
    "collapsed": true,
    "scrolled": false
   },
   "outputs": [],
   "source": [
    "# Species Narrative information by ID - To get narrative information about individual species. \n",
    "# Please be aware that the text contains HTML markup in some places for formatting purposes.\n",
    "# r = requests.get('http://apiv3.iucnredlist.org/api/v3/species/narrative/id/12392?token=9bb4facb6d23f48efbf424bb05c0c1ef1cf6f468393bc745d42179ac4aca5fee')\n",
    "# r = r.json()\n",
    "# r = r['result'][0]\n",
    "# print(len(r))\n",
    "# for k, v in r.items():\n",
    "#     print(k, ': ', v)"
   ]
  },
  {
   "cell_type": "code",
   "execution_count": 74,
   "metadata": {},
   "outputs": [
    {
     "name": "stdout",
     "output_type": "stream",
     "text": [
      "   code                                country   distribution_code  \\\n",
      "0    AO                                 Angola              Native   \n",
      "1    BF                           Burkina Faso              Native   \n",
      "2    BI                                Burundi  Regionally Extinct   \n",
      "3    BJ                                  Benin              Native   \n",
      "4    BW                               Botswana              Native   \n",
      "5    CD  Congo, The Democratic Republic of the              Native   \n",
      "6    CF               Central African Republic              Native   \n",
      "7    CG                                  Congo              Native   \n",
      "8    CI                          Côte d'Ivoire              Native   \n",
      "9    CM                               Cameroon              Native   \n",
      "10   ER                                Eritrea              Native   \n",
      "11   ET                               Ethiopia              Native   \n",
      "12   GA                                  Gabon              Native   \n",
      "13   GH                                  Ghana              Native   \n",
      "14   GM                                 Gambia  Regionally Extinct   \n",
      "15   GN                                 Guinea              Native   \n",
      "16   GQ                      Equatorial Guinea              Native   \n",
      "17   GW                          Guinea-Bissau              Native   \n",
      "18   KE                                  Kenya              Native   \n",
      "19   LR                                Liberia              Native   \n",
      "20   ML                                   Mali              Native   \n",
      "21   MR                             Mauritania  Regionally Extinct   \n",
      "22   MW                                 Malawi              Native   \n",
      "23   MZ                             Mozambique              Native   \n",
      "24   NA                                Namibia              Native   \n",
      "25   NE                                  Niger              Native   \n",
      "26   NG                                Nigeria              Native   \n",
      "27   RW                                 Rwanda              Native   \n",
      "28   SL                           Sierra Leone              Native   \n",
      "29   SN                                Senegal              Native   \n",
      "30   SO                                Somalia              Native   \n",
      "31   SS                            South Sudan              Native   \n",
      "32   SZ                              Swaziland        Reintroduced   \n",
      "33   TD                                   Chad              Native   \n",
      "34   TG                                   Togo              Native   \n",
      "35   TZ           Tanzania, United Republic of              Native   \n",
      "36   UG                                 Uganda              Native   \n",
      "37   ZA                           South Africa              Native   \n",
      "38   ZM                                 Zambia              Native   \n",
      "39   ZW                               Zimbabwe              Native   \n",
      "\n",
      "          origin           presence  \n",
      "0         Native             Extant  \n",
      "1         Native             Extant  \n",
      "2         Native  Extinct Post-1500  \n",
      "3         Native             Extant  \n",
      "4         Native             Extant  \n",
      "5         Native             Extant  \n",
      "6         Native             Extant  \n",
      "7         Native             Extant  \n",
      "8         Native             Extant  \n",
      "9         Native             Extant  \n",
      "10        Native             Extant  \n",
      "11        Native             Extant  \n",
      "12        Native             Extant  \n",
      "13        Native             Extant  \n",
      "14        Native  Extinct Post-1500  \n",
      "15        Native             Extant  \n",
      "16        Native             Extant  \n",
      "17        Native             Extant  \n",
      "18        Native             Extant  \n",
      "19        Native             Extant  \n",
      "20        Native             Extant  \n",
      "21        Native  Extinct Post-1500  \n",
      "22        Native             Extant  \n",
      "23        Native             Extant  \n",
      "24        Native             Extant  \n",
      "25        Native             Extant  \n",
      "26        Native             Extant  \n",
      "27        Native             Extant  \n",
      "28        Native             Extant  \n",
      "29        Native             Extant  \n",
      "30        Native             Extant  \n",
      "31        Native             Extant  \n",
      "32  Reintroduced             Extant  \n",
      "33        Native             Extant  \n",
      "34        Native             Extant  \n",
      "35        Native             Extant  \n",
      "36        Native             Extant  \n",
      "37        Native             Extant  \n",
      "38        Native             Extant  \n",
      "39        Native             Extant  \n"
     ]
    }
   ],
   "source": [
    "# Country occurrence by species ID - To get a list of countries of occurrence by species ID.\n",
    "r = requests.get('http://apiv3.iucnredlist.org/api/v3/species/countries/id/12392?token=9bb4facb6d23f48efbf424bb05c0c1ef1cf6f468393bc745d42179ac4aca5fee')\n",
    "r = r.json()\n",
    "r = r['result']\n",
    "r = pd.DataFrame(r)\n",
    "print(r)"
   ]
  },
  {
   "cell_type": "code",
   "execution_count": 67,
   "metadata": {},
   "outputs": [
    {
     "name": "stdout",
     "output_type": "stream",
     "text": [
      "7\n",
      "     category code  year\n",
      "0  Vulnerable   VU  2008\n",
      "1  Vulnerable   VU  2004\n",
      "2  Endangered   EN  1996\n",
      "3  Vulnerable    V  1994\n",
      "4  Vulnerable    V  1990\n",
      "5  Vulnerable    V  1988\n",
      "6  Vulnerable    V  1986\n"
     ]
    }
   ],
   "source": [
    "# Historical assessments by species ID - To get a list of historical assessments\n",
    "# by species ID (including the current listing).\n",
    "r = requests.get('http://apiv3.iucnredlist.org/api/v3/species/history/id/12392?token=9bb4facb6d23f48efbf424bb05c0c1ef1cf6f468393bc745d42179ac4aca5fee')\n",
    "r = r.json()\n",
    "r = r['result']\n",
    "print(len(r))\n",
    "r = pd.DataFrame(r)\n",
    "print(r)"
   ]
  },
  {
   "cell_type": "code",
   "execution_count": 5,
   "metadata": {},
   "outputs": [
    {
     "name": "stdout",
     "output_type": "stream",
     "text": [
      "29\n",
      "      code invasive scope          score severity  timing title\n",
      "0      1.1     None  None  Low Impact: 3     None           NaN\n",
      "1     11.2     None  None  Low Impact: 3     None           NaN\n",
      "2      1.2     None  None  Low Impact: 3     None           NaN\n",
      "3      2.1     None  None  Low Impact: 3     None           NaN\n",
      "4    2.1.1     None  None  Low Impact: 3     None           NaN\n",
      "5    2.1.2     None  None  Low Impact: 3     None           NaN\n",
      "6    2.1.3     None  None  Low Impact: 3     None           NaN\n",
      "7      2.2     None  None  Low Impact: 3     None           NaN\n",
      "8    2.2.1     None  None  Low Impact: 3     None           NaN\n",
      "9    2.2.2     None  None  Low Impact: 3     None           NaN\n",
      "10     2.3     None  None  Low Impact: 3     None           NaN\n",
      "11   2.3.1     None  None  Low Impact: 3     None           NaN\n",
      "12   2.3.2     None  None  Low Impact: 3     None           NaN\n",
      "13   2.3.3     None  None  Low Impact: 3     None           NaN\n",
      "14     4.1     None  None  Low Impact: 3     None           NaN\n",
      "15     5.1     None  None  Low Impact: 3     None           NaN\n",
      "16   5.1.1     None  None  Low Impact: 3     None           NaN\n",
      "17   5.1.2     None  None  Low Impact: 3     None           NaN\n",
      "18   5.1.3     None  None  Low Impact: 3     None           NaN\n",
      "19     5.3     None  None  Low Impact: 3     None           NaN\n",
      "20   5.3.5     None  None  Low Impact: 3     None           NaN\n",
      "21     6.1     None  None  Low Impact: 3     None           NaN\n",
      "22     6.2     None  None  Low Impact: 3     None           NaN\n",
      "23     7.1     None  None  Low Impact: 3     None           NaN\n",
      "24   7.1.3     None  None  Low Impact: 3     None           NaN\n",
      "25     7.2     None  None  Low Impact: 3     None           NaN\n",
      "26  7.2.11     None  None  Low Impact: 3     None           NaN\n",
      "27     8.1     None  None  Low Impact: 3     None           NaN\n",
      "28   8.1.1     None  None  Low Impact: 3     None           NaN\n"
     ]
    }
   ],
   "source": [
    "# Threats by species ID - To get a list of threats by species ID. \n",
    "# Please refer to the Threat classification scheme to learn more.\n",
    "r = requests.get('http://apiv3.iucnredlist.org/api/v3/threats/species/id/12392?token=9bb4facb6d23f48efbf424bb05c0c1ef1cf6f468393bc745d42179ac4aca5fee')\n",
    "r = r.json()\n",
    "r = r['result']\n",
    "print(len(r))\n",
    "r = pd.DataFrame(r, columns =['code', 'invasive', 'scope', 'score', 'severity', 'timing title'])\n",
    "print(r)"
   ]
  },
  {
   "cell_type": "code",
   "execution_count": 69,
   "metadata": {},
   "outputs": [
    {
     "name": "stdout",
     "output_type": "stream",
     "text": [
      "31\n",
      "    code                                            habitat majorimportance  \\\n",
      "0    1.4                                 Forest - Temperate            None   \n",
      "1   14.1               Artificial/Terrestrial - Arable Land            None   \n",
      "2   14.2               Artificial/Terrestrial - Pastureland            None   \n",
      "3   14.3               Artificial/Terrestrial - Plantations            None   \n",
      "4   14.4             Artificial/Terrestrial - Rural Gardens            None   \n",
      "5   14.6  Artificial/Terrestrial - Subtropical/Tropical ...            None   \n",
      "6    1.5                  Forest - Subtropical/Tropical Dry            None   \n",
      "7   15.8  Artificial/Aquatic - Seasonally Flooded Agricu...            None   \n",
      "8    1.6        Forest - Subtropical/Tropical Moist Lowland            None   \n",
      "9    1.7  Forest - Subtropical/Tropical Mangrove Vegetat...            None   \n",
      "10   1.8                Forest - Subtropical/Tropical Swamp            None   \n",
      "11   1.9        Forest - Subtropical/Tropical Moist Montane            None   \n",
      "12   2.1                                      Savanna - Dry            None   \n",
      "13   2.2                                    Savanna - Moist            None   \n",
      "14   3.4                              Shrubland - Temperate            None   \n",
      "15   3.5               Shrubland - Subtropical/Tropical Dry            None   \n",
      "16   3.6             Shrubland - Subtropical/Tropical Moist            None   \n",
      "17   3.7     Shrubland - Subtropical/Tropical High Altitude            None   \n",
      "18   3.8  Shrubland - Mediterranean-type Shrubby Vegetation            None   \n",
      "19   4.4                              Grassland - Temperate            None   \n",
      "20   4.5               Grassland - Subtropical/Tropical Dry            None   \n",
      "21   4.6  Grassland - Subtropical/Tropical Seasonally We...            None   \n",
      "22   4.7     Grassland - Subtropical/Tropical High Altitude            None   \n",
      "23  5.13        Wetlands (inland) - Permanent Inland Deltas            None   \n",
      "24   5.2  Wetlands (inland) - Seasonal/Intermittent/Irre...            None   \n",
      "25   5.3       Wetlands (inland) - Shrub Dominated Wetlands            None   \n",
      "26   5.4  Wetlands (inland) - Bogs, Marshes, Swamps, Fen...            None   \n",
      "27   5.8  Wetlands (inland) - Seasonal/Intermittent Fres...            None   \n",
      "28   5.9   Wetlands (inland) - Freshwater Springs and Oases            None   \n",
      "29   8.1                                       Desert - Hot            None   \n",
      "30   8.2                                 Desert - Temperate            None   \n",
      "\n",
      "   season suitability  \n",
      "0    None        None  \n",
      "1    None        None  \n",
      "2    None        None  \n",
      "3    None        None  \n",
      "4    None        None  \n",
      "5    None        None  \n",
      "6    None        None  \n",
      "7    None        None  \n",
      "8    None        None  \n",
      "9    None        None  \n",
      "10   None        None  \n",
      "11   None        None  \n",
      "12   None        None  \n",
      "13   None        None  \n",
      "14   None        None  \n",
      "15   None        None  \n",
      "16   None        None  \n",
      "17   None        None  \n",
      "18   None        None  \n",
      "19   None        None  \n",
      "20   None        None  \n",
      "21   None        None  \n",
      "22   None        None  \n",
      "23   None        None  \n",
      "24   None        None  \n",
      "25   None        None  \n",
      "26   None        None  \n",
      "27   None        None  \n",
      "28   None        None  \n",
      "29   None        None  \n",
      "30   None        None  \n"
     ]
    }
   ],
   "source": [
    "# Habitats by species ID - To get a list of habitats by species ID. \n",
    "# Please refer to the Habitat classification scheme to learn more.\n",
    "r = requests.get('http://apiv3.iucnredlist.org/api/v3/habitats/species/id/12392?token=9bb4facb6d23f48efbf424bb05c0c1ef1cf6f468393bc745d42179ac4aca5fee')\n",
    "r = r.json()\n",
    "r = r['result']\n",
    "print(len(r))\n",
    "r = pd.DataFrame(r)\n",
    "print(r)"
   ]
  },
  {
   "cell_type": "code",
   "execution_count": 70,
   "metadata": {},
   "outputs": [
    {
     "name": "stdout",
     "output_type": "stream",
     "text": [
      "20\n",
      "     code                                         title\n",
      "0     1.1                          Site/area protection\n",
      "1     1.2                 Resource & habitat protection\n",
      "2     2.1                          Site/area management\n",
      "3     3.1                            Species management\n",
      "4   3.1.1                            Harvest management\n",
      "5   3.1.2                              Trade management\n",
      "6   3.1.3                    Limiting population growth\n",
      "7     3.2                              Species recovery\n",
      "8     4.1                              Formal education\n",
      "9     4.2                                      Training\n",
      "10    4.3                    Awareness & communications\n",
      "11    5.1                                   Legislation\n",
      "12  5.1.1                           International level\n",
      "13  5.1.2                                National level\n",
      "14  5.1.3                            Sub-national level\n",
      "15    5.4                    Compliance and enforcement\n",
      "16  5.4.1                           International level\n",
      "17  5.4.2                                National level\n",
      "18  5.4.3                            Sub-national level\n",
      "19    6.1  Linked enterprises & livelihood alternatives\n"
     ]
    }
   ],
   "source": [
    "# Conservation measures by species ID - To get a list of conservation actions by species ID. \n",
    "# Please refer to the Measures classification scheme to learn more.\n",
    "r = requests.get('http://apiv3.iucnredlist.org/api/v3/measures/species/id/12392?token=9bb4facb6d23f48efbf424bb05c0c1ef1cf6f468393bc745d42179ac4aca5fee')\n",
    "r = r.json()\n",
    "r = r['result']\n",
    "print(len(r))\n",
    "r = pd.DataFrame(r)\n",
    "print(r)"
   ]
  },
  {
   "cell_type": "code",
   "execution_count": 75,
   "metadata": {},
   "outputs": [
    {
     "data": {
      "image/png": "[encoded data removed]",
      "text/plain": [
       "<matplotlib.figure.Figure at 0x18b15b867b8>"
      ]
     },
     "metadata": {},
     "output_type": "display_data"
    }
   ],
   "source": [
    "# Matplotlib:\n",
    "import matplotlib.pyplot as plt\n",
    "# 1. Use the matplotlib module to create a chart of the following coordinates (1,20),\n",
    "# (2,21), (3, 20.5), (4,20.8)\n",
    "x = [1, 2, 3, 4]\n",
    "y = [20, 21, 20.5, 20.8]\n",
    "plt.scatter(x,y) \n",
    "plt.show()"
   ]
  },
  {
   "cell_type": "code",
   "execution_count": null,
   "metadata": {
    "collapsed": true
   },
   "outputs": [],
   "source": []
  }
 ],
 "metadata": {
  "kernelspec": {
   "display_name": "Python 3",
   "language": "python",
   "name": "python3"
  },
  "language_info": {
   "codemirror_mode": {
    "name": "ipython",
    "version": 3
   },
   "file_extension": ".py",
   "mimetype": "text/x-python",
   "name": "python",
   "nbconvert_exporter": "python",
   "pygments_lexer": "ipython3",
   "version": "3.6.1"
  }
 },
 "nbformat": 4,
 "nbformat_minor": 2
}
