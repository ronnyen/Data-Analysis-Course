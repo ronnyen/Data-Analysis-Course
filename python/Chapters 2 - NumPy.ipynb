{
 "cells": [
  {
   "cell_type": "code",
   "execution_count": 2,
   "metadata": {
    "collapsed": true
   },
   "outputs": [],
   "source": [
    "import numpy as np"
   ]
  },
  {
   "cell_type": "code",
   "execution_count": 7,
   "metadata": {},
   "outputs": [
    {
     "name": "stdout",
     "output_type": "stream",
     "text": [
      "[ 48.858598   2.294495]\n",
      "dimension  1\n",
      "shape  (2,)\n",
      "length  2\n",
      "data type  float64\n"
     ]
    }
   ],
   "source": [
    "# create an array manually\n",
    "p = np.array([48.858598, 2.294495])\n",
    "print(p)\n",
    "# getting dimension of array p\n",
    "print('dimension ', p.ndim) \n",
    "# getting size of each array dimension\n",
    "print('shape ', p.shape)\n",
    "# getting dimension length of array p\n",
    "print('length ', len(p)) \n",
    "# getting data type of array p\n",
    "print('data type ', p.dtype)"
   ]
  },
  {
   "cell_type": "code",
   "execution_count": 10,
   "metadata": {},
   "outputs": [
    {
     "name": "stdout",
     "output_type": "stream",
     "text": [
      "float32\n"
     ]
    }
   ],
   "source": [
    "#reference for data types https://docs.scipy.org/doc/numpy-1.13.0/user/basics.types.html\n",
    "\n",
    "# convert data type\n",
    "a = p.astype(np.float32)\n",
    "print(a.dtype)"
   ]
  },
  {
   "cell_type": "markdown",
   "metadata": {},
   "source": [
    "### Array creation"
   ]
  },
  {
   "cell_type": "code",
   "execution_count": 32,
   "metadata": {},
   "outputs": [
    {
     "name": "stdout",
     "output_type": "stream",
     "text": [
      "[[ 1.1  2.2]\n",
      " [ 3.3  4.4]\n",
      " [ 5.5  6.6]]\n",
      "[[1 2]\n",
      " [3 4]]\n",
      "[[1 0]\n",
      " [0 1]]\n",
      "[[1 0]\n",
      " [0 1]]\n",
      "[ 1.  1.  1.  1.  1.]\n",
      "[1 1 1 1]\n",
      "[[1 1 1]\n",
      " [1 1 1]]\n"
     ]
    },
    {
     "data": {
      "text/plain": [
       "array([ 3.14,  2.17])"
      ]
     },
     "execution_count": 32,
     "metadata": {},
     "output_type": "execute_result"
    }
   ],
   "source": [
    "# empty- Create a new array of the given shape and type, without `initializing elements\n",
    "print(np.empty([3,2], dtype=np.float64))\n",
    "\n",
    "# empty_like - Array of uninitialized (arbitrary) data with the same shape and type as a.\n",
    "a = np.array([[1, 2], [4, 3]])\n",
    "b = np.empty_like(a)\n",
    "print(np.empty_like(a))\n",
    "\n",
    "# eye, identity - Create a NxN identity matrix with ones on the diagonal and zero elsewhere\n",
    "print(np.eye(2, dtype=np.int))\n",
    "print(np.identity(2, dtype=np.int))\n",
    "\n",
    "# ones, ones_like - Create a new array with the given shape and type, filled with 1s for all elements\n",
    "print(np.ones(5))\n",
    "print(np.ones(4, dtype=np.int))\n",
    "x = np.array([[0,1,2], [3,4,5]])\n",
    "print(np.ones_like(x))\n",
    "\n",
    "# zeros, zeros_like - This is similar to ones, ones_like, but initializing elements with 0s instead\n",
    "np.zeros(5)\n",
    "np.zeros(4, dtype=np.int)\n",
    "x = np.array([[0, 1, 2], [3, 4, 5]])\n",
    "np.zeros_like(x)\n",
    "\n",
    "# arange - Create an array with even spaced values in a given intervalnp.arange(2, 5)\n",
    "np.arange(4, 12, 5)\n",
    "\n",
    "# full, full_like - Create a new array with the given shape and type, filled with a selected value\n",
    "np.full((2,2), 3, dtype=np.int)\n",
    "x = np.ones(3)\n",
    "np.full_like(x, 2)\n",
    "\n",
    "# array - Create an array from the existing data\n",
    "np.array([[1.1, 2.2, 3.3], [4.4, 5.5, 6.6]])\n",
    "\n",
    "# asarray Convert the input to an array\n",
    "a = [3.14, 2.46]\n",
    "np.asarray(a)\n",
    "\n",
    "# copy - Return an array copy of the given object\n",
    "a = np.array([[1, 2], [3, 4]])\n",
    "np.copy(a)\n",
    "\n",
    "# fromstring Create 1-D array from a string or text\n",
    "np.fromstring('3.14 2.17', dtype=np.float, sep=' ')"
   ]
  },
  {
   "cell_type": "markdown",
   "metadata": {},
   "source": [
    "### Indexing and slicing"
   ]
  },
  {
   "cell_type": "code",
   "execution_count": null,
   "metadata": {
    "collapsed": true
   },
   "outputs": [],
   "source": []
  },
  {
   "cell_type": "markdown",
   "metadata": {},
   "source": [
    "### Fancy indexing\n",
    "Besides indexing with slices, NumPy also supports indexing with Boolean or integer\n",
    "arrays (masks). This method is called fancy indexing. It creates copies, not views."
   ]
  },
  {
   "cell_type": "code",
   "execution_count": 34,
   "metadata": {},
   "outputs": [
    {
     "name": "stdout",
     "output_type": "stream",
     "text": [
      "[False  True False  True]\n",
      "[[2 3]\n",
      " [6 7]]\n"
     ]
    }
   ],
   "source": [
    "# First, we take a look at an example of indexing with a Boolean mask array:\n",
    "a = np.array([3, 5, 1, 10])\n",
    "b = (a % 5 == 0)\n",
    "print(b)\n",
    "c = np.array([[0, 1], [2, 3], [4, 5], [6, 7]])\n",
    "print(c[b])"
   ]
  },
  {
   "cell_type": "code",
   "execution_count": 37,
   "metadata": {},
   "outputs": [
    {
     "name": "stdout",
     "output_type": "stream",
     "text": [
      "[[ 9 10 11 12]\n",
      " [ 5  6  7  8]]\n",
      "[[ 9 10 11 12]\n",
      " [13 14 15 16]]\n",
      "[ 9 14]\n"
     ]
    }
   ],
   "source": [
    "# The second example is an illustration of using integer masks on arrays:\n",
    "a = np.array([[1, 2, 3, 4], [5, 6, 7, 8], [9, 10, 11, 12], [13, 14, 15, 16]])\n",
    "print(a[[2, 1]])\n",
    "print(a[[-2, -1]]) # select rows from the end\n",
    "print(a[[2, 3], [0, 1]]) # take elements at (2, 0) and (3, 1)\n"
   ]
  },
  {
   "cell_type": "markdown",
   "metadata": {},
   "source": [
    "### Numerical operations on arrays"
   ]
  },
  {
   "cell_type": "code",
   "execution_count": 38,
   "metadata": {},
   "outputs": [
    {
     "name": "stdout",
     "output_type": "stream",
     "text": [
      "[ 2.  2.  2.  2.]\n",
      "[ 4.  4.  4.  4.]\n"
     ]
    }
   ],
   "source": [
    "# Scalar operations will propagate the value to each element of the array:\n",
    "a = np.ones(4)\n",
    "print(a * 2)\n",
    "print(a + 3)"
   ]
  },
  {
   "cell_type": "code",
   "execution_count": 39,
   "metadata": {},
   "outputs": [
    {
     "name": "stdout",
     "output_type": "stream",
     "text": [
      "[[ 1.  1.  1.  1.]\n",
      " [ 1.  1.  1.  1.]]\n",
      "[[ 2.  2.  2.  2.]\n",
      " [ 2.  2.  2.  2.]]\n"
     ]
    }
   ],
   "source": [
    "# All arithmetic operations between arrays apply the operation element wise:\n",
    "a = np.ones([2, 4])\n",
    "print(a * a)\n",
    "print(a + a)"
   ]
  },
  {
   "cell_type": "code",
   "execution_count": 42,
   "metadata": {},
   "outputs": [
    {
     "name": "stdout",
     "output_type": "stream",
     "text": [
      "[ True False False False]\n",
      "False\n",
      "[ True False]\n"
     ]
    }
   ],
   "source": [
    "# Also, here are some examples of comparisons and logical operations:\n",
    "a = np.array([1, 2, 3, 4])\n",
    "b = np.array([1, 1, 5, 3])\n",
    "print(a == b)\n",
    "print(np.array_equal(a, b)) # array-wise comparison\n",
    "c = np.array([1, 0])\n",
    "d = np.array([1, 1])\n",
    "print(np.logical_and(c, d)) # logical operations"
   ]
  },
  {
   "cell_type": "markdown",
   "metadata": {},
   "source": [
    "### Array functions\n"
   ]
  },
  {
   "cell_type": "code",
   "execution_count": 56,
   "metadata": {},
   "outputs": [
    {
     "name": "stdout",
     "output_type": "stream",
     "text": [
      "swapaxes [[[ 0  3]\n",
      "  [ 1  4]\n",
      "  [ 2  5]]\n",
      "\n",
      " [[ 6  9]\n",
      "  [ 7 10]\n",
      "  [ 8 11]]]\n",
      "a [[[ 0  1  2]\n",
      "  [ 3  4  5]]\n",
      "\n",
      " [[ 6  7  8]\n",
      "  [ 9 10 11]]]\n",
      "[[1 4]\n",
      " [2 5]\n",
      " [3 6]]\n"
     ]
    },
    {
     "data": {
      "text/plain": [
       "array([[17, 22, 27],\n",
       "       [22, 29, 36],\n",
       "       [27, 36, 45]])"
      ]
     },
     "execution_count": 56,
     "metadata": {},
     "output_type": "execute_result"
    }
   ],
   "source": [
    "a = np.array([[0, 5, 10], [20, 25, 30]])\n",
    "# reshape\n",
    "a.reshape(3, 2)\n",
    "# transpose\n",
    "a.T\n",
    "#swapaxes - method that takes a pair of axis numbers and returns a view on the data, \n",
    "# without making a copy:\n",
    "a = np.array([[[0, 1, 2], [3, 4, 5]], [[6, 7, 8], [9, 10, 11]]])\n",
    "print('swapaxes', a.swapaxes(1, 2))\n",
    "print('a', a)\n",
    "# The transposing function is used to do matrix computations; for example, computing\n",
    "# the inner matrix product XT.X using np.dot:\n",
    "a = np.array([[1, 2, 3],[4,5,6]])\n",
    "print(a.T)\n",
    "np.dot(a.T, a)"
   ]
  },
  {
   "cell_type": "code",
   "execution_count": 62,
   "metadata": {},
   "outputs": [
    {
     "name": "stdout",
     "output_type": "stream",
     "text": [
      "[[ 1  6  6 34]\n",
      " [-1  0  2  5]]\n",
      " sort along the first axis [[ 0  5  1 -1]\n",
      " [ 6 34  2  6]]\n",
      "b [[2 0 3 1]\n",
      " [3 0 2 1]]\n"
     ]
    },
    {
     "data": {
      "text/plain": [
       "1"
      ]
     },
     "execution_count": 62,
     "metadata": {},
     "output_type": "execute_result"
    }
   ],
   "source": [
    "# sorting\n",
    "a = np.array ([[6, 34, 1, 6], [0, 5, 2, -1]])\n",
    "print(np.sort(a)) # sort along the last axis\n",
    "print(' sort along the first axis', np.sort(a, axis=0)) # sort along the first axis (vertical..)\n",
    "\n",
    "b = np.argsort(a) # fancy indexing of sorted array\n",
    "print('b', b)\n",
    "np.argmax(a) # get index of maximum element"
   ]
  },
  {
   "cell_type": "code",
   "execution_count": null,
   "metadata": {
    "collapsed": true
   },
   "outputs": [],
   "source": [
    "# sin, cos, tan, cosh, sinh, tanh, arcos, arctan, deg2rad\n",
    "# - Trigonometric and hyperbolic functions\n",
    "\n",
    "# around, round, rint, fix, floor, ceil, trunc \n",
    "# - Rounding elements of an array to the given or nearest number\n",
    "\n",
    "# sqrt, square, exp, expm1, exp2, log, log10, log1p, logaddexp\n",
    "# - Computing the exponents and logarithms of an array\n",
    "\n",
    "# add, negative, multiply, devide, power, substract, mod, modf, remainder\n",
    "# - Set of arithmetic functions on arrays\n",
    "\n",
    "# greater, greater_equal, less, less_equal, equal, not_equal\n",
    "# - Perform elementwise comparison: >, >=, <, <=, ==, !="
   ]
  },
  {
   "cell_type": "markdown",
   "metadata": {},
   "source": [
    "### Data processing using arrays"
   ]
  },
  {
   "cell_type": "code",
   "execution_count": 66,
   "metadata": {},
   "outputs": [
    {
     "name": "stdout",
     "output_type": "stream",
     "text": [
      "[[2 4]\n",
      " [3 5]]\n"
     ]
    },
    {
     "data": {
      "text/plain": [
       "array([ 0, -3])"
      ]
     },
     "execution_count": 66,
     "metadata": {},
     "output_type": "execute_result"
    }
   ],
   "source": [
    "# sum - Calculate the sum of all the elements in an array or along the axis\n",
    "a = np.array([[2,4], [3,5]])\n",
    "np.sum(a, axis=0)\n",
    "\n",
    "# prod - Compute the product of array elements over the given axis\n",
    "np.prod(a, axis=1)\n",
    "\n",
    "# diff - Calculate the discrete difference along the given axis\n",
    "np.diff(a, axis=0)\n",
    "\n",
    "# gradient - Return the gradient of an array\n",
    "np.gradient(a)\n",
    "\n",
    "# cross - Return the cross product of two arrays\n",
    "b = np.array([[1,2], [3,4]])\n",
    "print(a)\n",
    "np.cross(a,b)\n",
    "\n",
    "# var\n",
    "\n",
    "# std\n",
    "\n",
    "# mean\n",
    "\n",
    "# where\n",
    "\n",
    "# unique\n",
    "\n",
    "# intersect1d"
   ]
  },
  {
   "cell_type": "markdown",
   "metadata": {},
   "source": [
    "### Loading and saving data"
   ]
  },
  {
   "cell_type": "code",
   "execution_count": null,
   "metadata": {
    "collapsed": true
   },
   "outputs": [],
   "source": []
  },
  {
   "cell_type": "markdown",
   "metadata": {},
   "source": [
    "### Linear algebra with NumPy"
   ]
  },
  {
   "cell_type": "code",
   "execution_count": null,
   "metadata": {
    "collapsed": true
   },
   "outputs": [],
   "source": []
  },
  {
   "cell_type": "markdown",
   "metadata": {},
   "source": [
    "### NumPy random numbers"
   ]
  },
  {
   "cell_type": "code",
   "execution_count": 67,
   "metadata": {},
   "outputs": [
    {
     "data": {
      "text/plain": [
       "array([17, 12, 10, 16, 18])"
      ]
     },
     "execution_count": 67,
     "metadata": {},
     "output_type": "execute_result"
    }
   ],
   "source": [
    "np.random.seed(20)\n",
    "# An array of random numbers in the [0.0, 1.0] interval can be generated as follows:\n",
    "np.random.rand(5)\n",
    "np.random.rand(5)\n",
    "\n",
    "np.random.seed(20) # reset seed number\n",
    "np.random.rand(5)\n",
    "\n",
    "# If we want to generate random integers in the half-open interval [min, max],\n",
    "# we can user the randint(min, max, length) function:\n",
    "np.random.randint(10, 20, 5)\n",
    "\n",
    "# NumPy also provides for many other distributions, including the Beta,\n",
    "# bionomial, chi-square, Dirichlet, exponential, F, Gamma, geometric, or Gumbel"
   ]
  }
 ],
 "metadata": {
  "kernelspec": {
   "display_name": "Python 3",
   "language": "python",
   "name": "python3"
  },
  "language_info": {
   "codemirror_mode": {
    "name": "ipython",
    "version": 3
   },
   "file_extension": ".py",
   "mimetype": "text/x-python",
   "name": "python",
   "nbconvert_exporter": "python",
   "pygments_lexer": "ipython3",
   "version": "3.6.1"
  }
 },
 "nbformat": 4,
 "nbformat_minor": 2
}
