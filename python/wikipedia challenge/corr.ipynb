{
 "cells": [
  {
   "cell_type": "code",
   "execution_count": 4,
   "metadata": {
    "collapsed": true
   },
   "outputs": [],
   "source": [
    "import pandas as pd\n",
    "import numpy as np\n",
    "import matplotlib.pyplot as plt\n",
    "\n",
    "df_density = pd.read_csv(\"data/density.csv\")\n",
    "df_employment = pd.read_csv(\"data/employment.csv\")\n",
    "\n",
    "# merge the tables\n",
    "df = pd.merge(df_density, df_employment,\n",
    "                      left_on='Country (or dependent territory)', right_on='Country')\n",
    "# split israel & india\n",
    "df_test = df[(df.Country == 'India') | (df.Country == 'Israel')]\n",
    "df = df[(df.Country != 'Israel') & (df.Country != 'India')]\n",
    "\n",
    "# create numpy arrays x, y\n",
    "density = np.array(df['Density (pop./km2)'], dtype=np.float64)\n",
    "employment = np.array(df['Employment rate (%)'])"
   ]
  },
  {
   "cell_type": "code",
   "execution_count": 11,
   "metadata": {
    "collapsed": true
   },
   "outputs": [],
   "source": [
    "def linear_regression(x, y):\n",
    "    n = len(y)\n",
    "    sum_x = np.sum(x)\n",
    "    sum_y = np.sum(y)\n",
    "    sum_x2 = np.sum(np.power(x, 2))\n",
    "    sum_xy = np.sum(x*y)\n",
    "    a = (sum_y*sum_x2 - sum_x*sum_xy) / (n*sum_x2 - sum_x*sum_x)\n",
    "    b = (n*sum_xy - sum_x*sum_y) / (n*sum_x2 - sum_x*sum_x)\n",
    "    return a, b\n",
    "\n",
    "def predict(func, a, b, x):\n",
    "    a, b = func(a, b)\n",
    "    return b*x + a"
   ]
  },
  {
   "cell_type": "code",
   "execution_count": 12,
   "metadata": {},
   "outputs": [
    {
     "name": "stdout",
     "output_type": "stream",
     "text": [
      "slope  0.00269661338916 intercept  65.9288231042\n"
     ]
    }
   ],
   "source": [
    "# calculate the slope and intercept\n",
    "a, b = linear_regression(density,employment)\n",
    "print('slope ', b, 'intercept ', a)"
   ]
  },
  {
   "cell_type": "code",
   "execution_count": 14,
   "metadata": {},
   "outputs": [
    {
     "name": "stdout",
     "output_type": "stream",
     "text": [
      "corr 0.0323170006857\n"
     ]
    }
   ],
   "source": [
    "# correlation\n",
    "corr = np.corrcoef(density, employment)\n",
    "print('corr', corr[0][1])"
   ]
  },
  {
   "cell_type": "code",
   "execution_count": 16,
   "metadata": {},
   "outputs": [
    {
     "name": "stdout",
     "output_type": "stream",
     "text": [
      "India rate employment  67.0155583001\n",
      "Israel rate employment  67.0047718465\n"
     ]
    }
   ],
   "source": [
    "# prediction results for Israel, India\n",
    "predict_x = []\n",
    "predict_y = []\n",
    "\n",
    "# Predict the employment rate of Israel, India\n",
    "for lab, row in df_test.iterrows():\n",
    "    result = []\n",
    "    x = float(row['Density (pop./km2)'])\n",
    "    y = predict(linear_regression, density, employment, x)\n",
    "    result.append(row.Country)\n",
    "    predict_x.append(x)\n",
    "    predict_y.append(y)\n",
    "    print(row.Country, 'rate employment ', y)"
   ]
  },
  {
   "cell_type": "code",
   "execution_count": 17,
   "metadata": {},
   "outputs": [
    {
     "data": {
      "image/png": "[encoded data removed]",
      "text/plain": [
       "<matplotlib.figure.Figure at 0x175682dc2b0>"
      ]
     },
     "metadata": {},
     "output_type": "display_data"
    }
   ],
   "source": [
    "# scatter plot\n",
    "plt.scatter(density, employment)\n",
    "# add Israel, India\n",
    "plt.scatter(predict_x, predict_y, color='red')\n",
    "# regression line\n",
    "fit = np.polyfit(density, employment, deg=1)\n",
    "plt.plot(density, fit[0] * density + fit[1], color='green')\n",
    "plt.xlabel('Population Density (pop./km2)')\n",
    "plt.ylabel('Employment rate (%)')\n",
    "plt.show()"
   ]
  }
 ],
 "metadata": {
  "kernelspec": {
   "display_name": "Python 3",
   "language": "python",
   "name": "python3"
  },
  "language_info": {
   "codemirror_mode": {
    "name": "ipython",
    "version": 3
   },
   "file_extension": ".py",
   "mimetype": "text/x-python",
   "name": "python",
   "nbconvert_exporter": "python",
   "pygments_lexer": "ipython3",
   "version": "3.6.1"
  }
 },
 "nbformat": 4,
 "nbformat_minor": 2
}
